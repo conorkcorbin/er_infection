{
 "cells": [
  {
   "cell_type": "code",
   "execution_count": 1,
   "metadata": {},
   "outputs": [
    {
     "name": "stderr",
     "output_type": "stream",
     "text": [
      "/share/sw/open/anaconda/3/lib/python3.6/site-packages/google/auth/_default.py:66: UserWarning: Your application has authenticated using end user credentials from Google Cloud SDK. We recommend that most server applications use service accounts instead. If your application continues to use end user credentials from Cloud SDK, you might receive a \"quota exceeded\" or \"API not enabled\" error. For more information about service accounts, see https://cloud.google.com/docs/authentication/\n",
      "  warnings.warn(_CLOUD_SDK_CREDENTIALS_WARNING)\n"
     ]
    }
   ],
   "source": [
    "import pandas as pd\n",
    "import matplotlib.pyplot as plt\n",
    "import numpy as np\n",
    "import os \n",
    "\n",
    "### THIS IS MEANT TO RUN ON NERO - NEEDS TO BE CHANGED IF YOU RUN LOCALLY\n",
    "os.environ['GOOGLE_APPLICATION_CREDENTIALS'] = '/home/ccorbin/.config/gcloud/application_default_credentials.json' \n",
    "os.environ['GCLOUD_PROJECT'] = 'mining-clinical-decisions' \n",
    "%load_ext google.cloud.bigquery\n",
    "\n",
    "from google.cloud import bigquery\n",
    "client=bigquery.Client()"
   ]
  },
  {
   "cell_type": "markdown",
   "metadata": {},
   "source": [
    "### Get ER CSN's With Included Cultures But Not Other Cultures Where We Have Lab Results For At Least One Ordered Culture  \n",
    "* This will exclude CSNs where all ordered cultures were cancelled, CHECK to see how many this is later"
   ]
  },
  {
   "cell_type": "code",
   "execution_count": null,
   "metadata": {},
   "outputs": [],
   "source": [
    "query=\"\"\"\n",
    "DECLARE culture_names ARRAY<STRING>;\n",
    "\n",
    "SET culture_names = [\"URINE CULTURE\", \"BLOOD CULTURE (2 AEROBIC BOTTLES)\", \"BLOOD CULTURE (AEROBIC & ANAEROBIC BOTTLES)\", \"BLOOD CULTURE (AEROBIC & ANAEROBIC BOTTLE)\", \"ANAEROBIC CULTURE\", \"RESPIRATORY CULTURE AND GRAM STAIN\", \"RESPIRATORY CULTURE\", \"FLUID CULTURE AND GRAM STAIN\", \"WOUND CULTURE\", \"STOOL CULTURE\", \"CSF CULTURE AND GRAM STAIN\", \"BLOOD CULT - FIRST SET, VIA PHLEBOTOMY\", \"BLOOD CULT CENTRAL LINE CATHETER BY NURSE\", \"WOUND CULTURE AND GRAM STAIN\", \"WOUND CULTURE AND GRAM STAIN, DEEP / SURGICAL / ASP\", \"FLUID CULTURE / BB GRAM STAIN\", \"CYSTIC FIBROSIS RESPIRATORY CULTURE\"];\n",
    "\n",
    "WITH er_admits AS (\n",
    "SELECT anon_id, pat_enc_csn_id_coded, min(effective_time_jittered_utc) as er_admit_time, max(effective_time_jittered_utc) as er_transfer_out_time\n",
    "FROM `shc_core.adt`\n",
    "WHERE pat_class_c = \"112\" AND pat_service = \"Emergency\"\n",
    "GROUP BY anon_id, pat_enc_csn_id_coded),\n",
    "\n",
    "culture_orders as (SELECT DISTINCT ea.anon_id, ea.pat_enc_csn_id_coded, op.description, op.order_type, op.order_status, op.order_proc_id_coded, op.order_time_jittered_utc, lr.anon_id as lr_anon_id,\n",
    "CASE WHEN op.description IN UNNEST(culture_names) THEN 1 ELSE 0 END is_included_culture,\n",
    "CASE WHEN op.description NOT IN UNNEST(culture_names) AND op.order_type LIKE \"Microbiology%\" THEN 1 ELSE 0 END is_excluded_culture\n",
    "FROM er_admits ea\n",
    "LEFT JOIN `shc_core.order_proc` op\n",
    "USING (anon_id)\n",
    "LEFT JOIN `shc_core.lab_result` lr\n",
    "ON op.order_proc_id_coded = lr.order_id_coded\n",
    "WHERE op.order_type LIKE \"Microbiology%\" -- ER cultures seem to all have microbiology or microbiology culture order_type. \n",
    "AND op.order_time_jittered_utc BETWEEN ea.er_admit_time AND ea.er_transfer_out_time),\n",
    "\n",
    "-- Get order time for first and last culture ordered during er visit. \n",
    "first_last_order_times as (\n",
    "SELECT pat_enc_csn_id_coded, MIN(order_time_jittered_utc) first_order_time, MAX(order_time_jittered_utc) max_order_time\n",
    "FROM culture_orders \n",
    "GROUP BY pat_enc_csn_id_coded),\n",
    "\n",
    "-- HAS AT LEAST ONE INCLUDE CULTURE AND NO EXCLUDE CULTRES\n",
    "c_o_include_flag as (\n",
    "SELECT pat_enc_csn_id_coded, MAX(is_included_culture) include, MAX(is_excluded_culture) exclude_c\n",
    "FROM culture_orders \n",
    "GROUP BY pat_enc_csn_id_coded),\n",
    "\n",
    "-- AT LEAST ONE ORDERED CULTURE IN CSN APPEARS IN LAB RESULTS - this is where selection bias could creep in\n",
    "in_lr_flag as (\n",
    "SELECT pat_enc_csn_id_coded, MAX(CASE WHEN lr_anon_id IS NOT NULL THEN 1 ELSE 0 END) in_lr\n",
    "FROM culture_orders \n",
    "GROUP BY pat_enc_csn_id_coded)\n",
    "\n",
    "SELECT DISTINCT flt.*\n",
    "FROM c_o_include_flag co\n",
    "INNER JOIN in_lr_flag lrf\n",
    "USING (pat_enc_csn_id_coded)\n",
    "INNER JOIN first_last_order_times flt\n",
    "USING (pat_enc_csn_id_coded)\n",
    "WHERE co.include = 1 AND co.exclude_c = 0 AND lrf.in_lr = 1\n",
    "\n",
    "\"\"\""
   ]
  }
 ],
 "metadata": {
  "kernelspec": {
   "display_name": "Python 3",
   "language": "python",
   "name": "python3"
  },
  "language_info": {
   "codemirror_mode": {
    "name": "ipython",
    "version": 3
   },
   "file_extension": ".py",
   "mimetype": "text/x-python",
   "name": "python",
   "nbconvert_exporter": "python",
   "pygments_lexer": "ipython3",
   "version": "3.6.6"
  }
 },
 "nbformat": 4,
 "nbformat_minor": 2
}
