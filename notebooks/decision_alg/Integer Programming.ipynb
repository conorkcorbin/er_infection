{
 "cells": [
  {
   "cell_type": "markdown",
   "metadata": {},
   "source": [
    "# Algorithmically Assign Abx To CSNs based on Model Predictions"
   ]
  },
  {
   "cell_type": "code",
   "execution_count": 2,
   "metadata": {},
   "outputs": [],
   "source": [
    "import numpy as np\n",
    "import pandas as pd\n",
    "from pulp import *"
   ]
  },
  {
   "cell_type": "markdown",
   "metadata": {},
   "source": [
    "### Load Predictions Data For Each Abx Option"
   ]
  },
  {
   "cell_type": "code",
   "execution_count": null,
   "metadata": {},
   "outputs": [],
   "source": [
    "base_path=\"/home/conorcorbin/repos/er_infection/results/testing/{abx}\"\n",
    "abx_options = []\n",
    "df = pd.DataFrame()\n",
    "for i, abx in enumerate(abx_options):\n",
    "    path = base_path.format(abx=abx)\n",
    "    if i == 0:\n",
    "        df = pd.read_csv(path)\n",
    "        df = df[['anon_id', 'pat_enc_csn_id_coded', 'label', 'predictions']]\n",
    "        df = df.rename(columns={'label' : '%s_label' % abx, '%s_predictions' % abx})\n",
    "    else:\n",
    "        df_preds = pd.read_csv(path)\n",
    "        df_preds = df_preds[['anon_id', 'pat_enc_csn_id_coded', 'label', 'predictions']]\n",
    "        df_preds = df_preds.rename(columns={'label' : '%s_label' % abx, '%s_predictions' % abx})\n",
    "        df = df.merge(df_preds, how='left', on='pat_enc_csn_id_coded')\n"
   ]
  },
  {
   "cell_type": "markdown",
   "metadata": {},
   "source": [
    "### Create Binary Integer Programming Problem Formulation"
   ]
  },
  {
   "cell_type": "code",
   "execution_count": null,
   "metadata": {},
   "outputs": [],
   "source": [
    "abx_model = pulp.LpProblem(\"Antibiotics Selection Problem\", pulp.LpMaximize)\n",
    "abx_options = []\n",
    "\n",
    "# Create binary indicators for whether treatment is used\n",
    "drug_inds = {}\n",
    "for abx in abx_options:\n",
    "    drug_inds[abx] = [LpVariable('%s_%d' % (abx, i), lowBound=0, upBound=1, cat='Binary')\n",
    "                      for i in range(len(df))]\n",
    "\n",
    "# Add objective function to model\n",
    "per_csn_sum = []\n",
    "for i in range((len(df))):\n",
    "    _sum = 0\n",
    "    for abx in abx_options:\n",
    "        _sum += drug_inds[abx][i] * df['%s_predictions' % abx].values[i]\n",
    "    per_csn_sum.append(_sum)\n",
    "    \n",
    "abx_model += lpSum(per_csn_sum)\n",
    "\n",
    "# Add one selection constraint\n",
    "for i in range(len(df)):\n",
    "    selections = []\n",
    "    for abx in abx_options:\n",
    "        selections.append(drug_inds[abx][i])\n",
    "    abx_model += lpSum(selections) == 1\n",
    "\n",
    "# Add max assignment constraints\n",
    "abx_assignment_constraints = {\"Vancomycin\" : 100,\n",
    "                              \"Ampicillin\" : 100,\n",
    "                              \"Cefazolin\" : 100,\n",
    "                              \"Ceftriaxone\" : 100,\n",
    "                              \"Cefepime\" : 100,\n",
    "                              \"Zosyn\" : 100,\n",
    "                              \"Ciprofloxacin\" : 100,\n",
    "                              \"Meropenem\" : 100,\n",
    "                              \"Vancomycin_Meropenem\" : 100,\n",
    "                              \"Vancomycin_Zosyn\" : 100,\n",
    "                              \"Vancomycin_Cefepime\" : 100,\n",
    "                              \"Vancomycin_Ceftriaxone\" : 100\n",
    "                             }\n",
    "\n",
    "for drug in drug_inds:\n",
    "    abx_model += lpSum([drug_inds[drug][i] for i in range(len(df))]) == abx_assignment_constraints[drug]\n",
    "\n",
    "# Solve model\n",
    "antibiotics_model.solve()\n",
    "print(\"Status:\", LpStatus[antibiotics_model.status])\n"
   ]
  },
  {
   "cell_type": "code",
   "execution_count": null,
   "metadata": {},
   "outputs": [],
   "source": [
    "# Scratch work don't throw out yet\n",
    "# Create list of contiuous variables\n",
    "pip_ind = [LpVariable('pip_%d' % i, lowBound=0, upBound=1, cat='Binary') for i in range(len(data_small))]\n",
    "cefepime_ind = [LpVariable('cefe_%d' % i, lowBound=0, upBound=1, cat='Binary') for i in range(len(data_small))]\n",
    "ceftriaxone_ind = [LpVariable('ceft_%d' % i, lowBound=0, upBound=1, cat='Binary') for i in range(len(data_small))]\n",
    "\n",
    "antibiotics_model += lpSum([pip_ind[i]*data_small['p_of_c_piptazo'].values[i] + \\\n",
    "                        cefepime_ind[i]*data_small['p_of_c_cefepime'].values[i] + \\\n",
    "                        ceftriaxone_ind[i]*data_small['p_of_c_ceftriaxone'].values[i] \n",
    "                        for i in range(len(data_small))]), \"Total cumulative probability\"\n",
    "\n",
    "# Add row constraints - ie rows must sum to one\n",
    "for i in range(len(data_small)):\n",
    "    antibiotics_model += lpSum([pip_ind[i], cefepime_ind[i], ceftriaxone_ind[i]]) == 1\n",
    "\n",
    "# Add Column constraints for each antibiotic'\n",
    "antibiotics_model += lpSum([pip_ind[i] for i in range(len(data_small))]) == 174\n",
    "antibiotics_model += lpSum([cefepime_ind[i] for i in range(len(data_small))]) == 35\n",
    "antibiotics_model += lpSum([ceftriaxone_ind[i] for i in range(len(data_small))]) == 561\n"
   ]
  }
 ],
 "metadata": {
  "kernelspec": {
   "display_name": "Python 3",
   "language": "python",
   "name": "python3"
  },
  "language_info": {
   "codemirror_mode": {
    "name": "ipython",
    "version": 3
   },
   "file_extension": ".py",
   "mimetype": "text/x-python",
   "name": "python",
   "nbconvert_exporter": "python",
   "pygments_lexer": "ipython3",
   "version": "3.7.6"
  }
 },
 "nbformat": 4,
 "nbformat_minor": 4
}
